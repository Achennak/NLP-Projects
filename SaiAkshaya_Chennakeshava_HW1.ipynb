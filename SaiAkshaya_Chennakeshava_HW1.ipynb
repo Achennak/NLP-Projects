{
  "cells": [
    {
      "cell_type": "code",
      "execution_count": 76,
      "id": "96fc096b-f534-4935-bebf-77a78d5d0d68",
      "metadata": {
        "colab": {
          "base_uri": "https://localhost:8080/"
        },
        "id": "96fc096b-f534-4935-bebf-77a78d5d0d68",
        "outputId": "7dd0c245-c474-490e-905d-8bbcce5b5065"
      },
      "outputs": [
        {
          "output_type": "stream",
          "name": "stdout",
          "text": [
            "True\n",
            "False\n"
          ]
        }
      ],
      "source": [
        "import re\n",
        "\n",
        "# Checks if a given string is a valid RNA sequence.\n",
        "def is_valid_rna(sequence):\n",
        "    #\n",
        "    pattern = re.compile(r'^[ACGU]+$')\n",
        "\n",
        "    return bool(pattern.fullmatch(sequence))\n",
        "\n",
        "# Test examples\n",
        "print(is_valid_rna(\"AUGCAUGCAUGC\"))  # Expected output: True\n",
        "print(is_valid_rna(\"AUGTXAGCAUGC\"))  # Expected output: False\n"
      ]
    },
    {
      "cell_type": "code",
      "execution_count": 77,
      "id": "b3f8e208-4198-4c9b-b111-1439f78a7cb3",
      "metadata": {
        "colab": {
          "base_uri": "https://localhost:8080/"
        },
        "id": "b3f8e208-4198-4c9b-b111-1439f78a7cb3",
        "outputId": "5e574c74-cedc-4155-a7ae-87856df213d0"
      },
      "outputs": [
        {
          "output_type": "stream",
          "name": "stdout",
          "text": [
            "{'A': 3, 'C': 3, 'G': 3, 'U': 3}\n",
            "{'A': 3, 'C': 3, 'G': 3, 'U': 3}\n",
            "{'A': 4, 'C': 3, 'G': 3, 'U': 3}\n"
          ]
        }
      ],
      "source": [
        "def nucleotide_count(sequence):\n",
        "    if not is_valid_rna(sequence):\n",
        "        return \"Invalid RNA sequence. Sequence must contain only A, C, G, U.\"\n",
        "\n",
        "    #Count the occurrences of each nucleotide in an RNA sequence.\n",
        "    counts = {'A': 0, 'C': 0, 'G': 0, 'U': 0}\n",
        "\n",
        "    for nucleotide in sequence:\n",
        "        if nucleotide in counts:\n",
        "            counts[nucleotide] += 1\n",
        "\n",
        "    # Return the dictionary with counts\n",
        "    return counts\n",
        "\n",
        "# Test examples\n",
        "print(nucleotide_count(\"AUGCAUGCAUGC\"))  # Expected output: {'A': 3, 'C': 3, 'G': 3, 'U': 3}\n",
        "print(nucleotide_count(\"ACGUACGUACGU\"))  # Expected output: {'A': 3, 'C': 3, 'G': 3, 'U': 3}\n",
        "print(nucleotide_count(\"AAAACCCGGGUUU\"))  # Expected output: {'A': 4, 'C': 3, 'G': 3, 'U': 3}\n"
      ]
    },
    {
      "cell_type": "code",
      "execution_count": 78,
      "id": "1581f305-8727-43ab-9dd5-8f6c1144e017",
      "metadata": {
        "colab": {
          "base_uri": "https://localhost:8080/"
        },
        "id": "1581f305-8727-43ab-9dd5-8f6c1144e017",
        "outputId": "9ec77e85-449b-4112-a1c9-270e323ad18a"
      },
      "outputs": [
        {
          "output_type": "stream",
          "name": "stdout",
          "text": [
            "[0, 4, 8]\n",
            "[3, 7]\n",
            "[0, 4, 8]\n",
            "[0, 7, 11, 18, 22]\n"
          ]
        }
      ],
      "source": [
        "def find_motifs(sequence, motif):\n",
        "\n",
        "    if not is_valid_rna(sequence):\n",
        "        return \"Invalid RNA sequence. Sequence must contain only A, C, G, U.\"\n",
        "\n",
        "    pattern = re.compile(motif)\n",
        "\n",
        "    # Find all matches of the motif in the sequence\n",
        "    matches = pattern.finditer(sequence)\n",
        "\n",
        "    # Extract the starting positions of each match\n",
        "    positions = [match.start() for match in matches]\n",
        "\n",
        "    return positions\n",
        "\n",
        "# Test examples\n",
        "print(find_motifs(\"AUGCAUGCAUGC\", \"AUG\"))  # Expected output: [0, 4, 8]\n",
        "print(find_motifs(\"AUGCAUGCAUGC\", \"CAU\"))  # Expected output: [2, 6]\n",
        "print(find_motifs(\"AUGCAUGCAUGCUAG\", \"AUGC\"))  # Expected output: [0, 4, 8]\n",
        "print(find_motifs(\"AUGCUGCAUGCAUGCUGCAUGCAUGCUAG\", \"AUGC\"))  # Expected output: [0, 7, 11, 18, 22]\n"
      ]
    },
    {
      "cell_type": "code",
      "execution_count": 79,
      "id": "a08f2168-4500-4918-8b06-772d4a4ca2fb",
      "metadata": {
        "colab": {
          "base_uri": "https://localhost:8080/"
        },
        "id": "a08f2168-4500-4918-8b06-772d4a4ca2fb",
        "outputId": "04b4cd87-6f81-4b41-c2ac-e4a81c18af24"
      },
      "outputs": [
        {
          "output_type": "stream",
          "name": "stdout",
          "text": [
            "UACGUACGUACG\n",
            "UGCAUGCAUGCA\n",
            "UUUUGGGCCCAAA\n"
          ]
        }
      ],
      "source": [
        "def complementary_sequence(sequence):\n",
        "    if not is_valid_rna(sequence):\n",
        "        return \"Invalid RNA sequence. Sequence must contain only A, C, G, U.\"\n",
        "\n",
        "    # Replace A with U, U with A, C with G, and G with C\n",
        "    complement_map = {\"A\": \"U\", \"U\": \"A\", \"C\": \"G\", \"G\": \"C\"}\n",
        "\n",
        "    # Generates the complementary sequence of a given RNA sequence.\n",
        "    return \"\".join(complement_map.get(char, char) for char in sequence)\n",
        "\n",
        "# Test examples\n",
        "print(complementary_sequence(\"AUGCAUGCAUGC\"))  # Expected output: UACGUACGUACG\n",
        "print(complementary_sequence(\"ACGUACGUACGU\"))  # Expected output: UGCAUGCAUGCA\n",
        "print(complementary_sequence(\"AAAACCCGGGUUU\"))  # Expected output: UUUUGGGCCCAAA\n"
      ]
    },
    {
      "cell_type": "code",
      "execution_count": 80,
      "id": "827447a1-f1d6-42d8-9c40-ef51ded6fc66",
      "metadata": {
        "colab": {
          "base_uri": "https://localhost:8080/"
        },
        "id": "827447a1-f1d6-42d8-9c40-ef51ded6fc66",
        "outputId": "8719aa01-7844-44f8-b535-120f4838e8b3"
      },
      "outputs": [
        {
          "output_type": "stream",
          "name": "stdout",
          "text": [
            "50.0\n",
            "50.0\n",
            "46.15\n",
            "100.0\n",
            "0.0\n"
          ]
        }
      ],
      "source": [
        "def gc_content(sequence):\n",
        "\n",
        "    if not is_valid_rna(sequence):\n",
        "        return \"Invalid RNA sequence. Sequence must contain only A, C, G, U.\"\n",
        "\n",
        "    # Calculate the count of G and C nucleotides\n",
        "    gc_count = sequence.count('G') + sequence.count('C')\n",
        "\n",
        "\n",
        "    # Calculate the length of the sequence\n",
        "    total_length = len(sequence)\n",
        "\n",
        "    # Calculate the GC content as a percentage\n",
        "    if total_length == 0:\n",
        "        return 0.0\n",
        "\n",
        "    gc_percentage = (gc_count / total_length) * 100\n",
        "\n",
        "    # Return the GC content percentage\n",
        "    return round(gc_percentage, 2)\n",
        "\n",
        "# Test examples\n",
        "print(gc_content(\"AUGCAUGCAUGC\"))  # Expected output: 50.0\n",
        "print(gc_content(\"ACGUACGUACGU\"))  # Expected output: 50.0\n",
        "print(gc_content(\"AAAACCCGGGUUU\"))  # Expected output: 46.1\n",
        "print(gc_content(\"GGGGCCCC\"))       # Expected output: 100.0\n",
        "print(gc_content(\"AUAUAUAU\"))       # Expected output: 0.0\n"
      ]
    },
    {
      "cell_type": "code",
      "execution_count": 81,
      "id": "a369f83a-855a-45bf-a00d-be5edb714d2e",
      "metadata": {
        "colab": {
          "base_uri": "https://localhost:8080/"
        },
        "id": "a369f83a-855a-45bf-a00d-be5edb714d2e",
        "outputId": "05d67061-4203-4442-e4a0-0cfd5e747977"
      },
      "outputs": [
        {
          "output_type": "stream",
          "name": "stdout",
          "text": [
            "True\n",
            "False\n"
          ]
        }
      ],
      "source": [
        "def is_valid_rna_adv(sequence):\n",
        "    # Define the set of valid RNA nucleotides including ambiguity codes\n",
        "    pattern = re.compile(r'^[ACGURYWSKMBDHVN]+$')\n",
        "\n",
        "    # Check if the sequence matches the pattern\n",
        "    return bool(pattern.match(sequence))\n",
        "\n",
        "# Test examples\n",
        "valid_sequence_with_ambiguity = \"AUGCRYSWKMBDHVN\"\n",
        "invalid_sequence = \"AUGTXZGCAUGC\"\n",
        "\n",
        "print(is_valid_rna_adv(valid_sequence_with_ambiguity))  # Expected output: True\n",
        "print(is_valid_rna_adv(invalid_sequence))              # Expected output: False\n"
      ]
    },
    {
      "cell_type": "code",
      "execution_count": 82,
      "id": "8e428e2b-fa84-4c0d-827c-396c9554c92f",
      "metadata": {
        "colab": {
          "base_uri": "https://localhost:8080/"
        },
        "id": "8e428e2b-fa84-4c0d-827c-396c9554c92f",
        "outputId": "c3c72039-9ee2-4548-86d2-1060f8081fc1"
      },
      "outputs": [
        {
          "output_type": "stream",
          "name": "stdout",
          "text": [
            "Motif 'RY' found at positions: [0, 2]\n",
            "Motif 'AUG' found at positions: [0, 4, 8]\n",
            "Motif 'N' found at positions: [0, 1, 2, 3]\n",
            "Motif 'S' found at positions: [2, 3]\n",
            "Motif 'RYS' found at positions: [0]\n"
          ]
        }
      ],
      "source": [
        "# Dictionary to map ambiguity codes to regex patterns\n",
        "ambiguity_codes = {\n",
        "    'A': 'A', 'C': 'C', 'G': 'G', 'U': 'U',\n",
        "    'R': '[AG]', 'Y': '[CU]', 'S': '[CG]', 'W': '[AU]',\n",
        "    'K': '[GU]', 'M': '[AC]', 'B': '[CGU]', 'D': '[AGU]',\n",
        "    'H': '[ACU]', 'V': '[ACG]', 'N': '[ACGU]'\n",
        "}\n",
        "\n",
        "def motif_to_regex(motif):\n",
        "    # Convert the motif to a regex pattern\n",
        "    regex_pattern = ''.join(ambiguity_codes.get(char, char) for char in motif)\n",
        "    return regex_pattern\n",
        "\n",
        "def find_motifs_with_amb(sequence, motif):\n",
        "    if not is_valid_rna_adv(sequence):\n",
        "        return \"Invalid RNA sequence.\"\n",
        "    # Convert the motif to a regex pattern\n",
        "    regex_pattern = motif_to_regex(motif)\n",
        "\n",
        "    # Find all matches using regex\n",
        "    matches = re.finditer(regex_pattern, sequence)\n",
        "\n",
        "    # Collect the starting positions of each match\n",
        "    positions = [match.start() for match in matches]\n",
        "\n",
        "    # Return the positions\n",
        "    return positions\n",
        "\n",
        "# Test examples\n",
        "sequence = \"AUGCRYSN\"\n",
        "motif = \"RY\"\n",
        "positions = find_motifs_with_amb(sequence, motif)\n",
        "print(f\"Motif '{motif}' found at positions: {positions}\")  # Expected output: Motif 'RY' found at positions: [3]\n",
        "print(f\"Motif 'AUG' found at positions: {find_motifs_with_amb('AUGCAUGCAUGC', 'AUG')}\")  # Expected output: Motif 'AUG' found at positions: [0, 4, 8]\n",
        "print(f\"Motif 'N' found at positions: {find_motifs_with_amb('AUGCRYSN', 'N')}\")  # Expected output: Motif 'N' found at positions: [7]\n",
        "print(f\"Motif 'S' found at positions: {find_motifs_with_amb('AUGCRYSN', 'S')}\")  # Expected output: Motif 'S' found at positions: [5]\n",
        "print(f\"Motif 'RYS' found at positions: {find_motifs_with_amb('AUGCRYSN', 'RYS')}\")  # Expected output: Motif 'RYS' found at positions: [4]\n"
      ]
    },
    {
      "cell_type": "code",
      "source": [
        "def complementary_sequence_with_amb(sequence):\n",
        "\n",
        "   # complete_map for advance sequences\n",
        "    complement_map = { 'A': 'U', 'U': 'A', 'C': 'G', 'G': 'C',\n",
        "        'R': 'Y', 'Y': 'R', 'S': 'S', 'W': 'W',\n",
        "        'K': 'M', 'M': 'K', 'B': 'V', 'D': 'H',\n",
        "        'H': 'D', 'V': 'B', 'N': 'N'}\n",
        "\n",
        "    # Generates the complementary sequence of a given RNA sequence.\n",
        "    return \"\".join(complement_map.get(char, char) for char in sequence)"
      ],
      "metadata": {
        "id": "Qz_EpJJWT85F"
      },
      "id": "Qz_EpJJWT85F",
      "execution_count": 83,
      "outputs": []
    },
    {
      "cell_type": "code",
      "source": [
        "def gc_content_with_amb(sequence):\n",
        "\n",
        "    # Calculate the count of G and C nucleotides in advance sequences\n",
        "    gc_count = sequence.count('G') + sequence.count('C')+sequence.count('S')\n",
        "\n",
        "\n",
        "    # Calculate the length of the sequence\n",
        "    total_length = len(sequence)\n",
        "\n",
        "    # Calculate the GC content as a percentage\n",
        "    if total_length == 0:\n",
        "        return 0.0\n",
        "\n",
        "    gc_percentage = (gc_count / total_length) * 100\n",
        "\n",
        "    # Return the GC content percentage\n",
        "    return round(gc_percentage, 2)"
      ],
      "metadata": {
        "id": "-S_27ic_VAKU"
      },
      "id": "-S_27ic_VAKU",
      "execution_count": 84,
      "outputs": []
    },
    {
      "cell_type": "code",
      "execution_count": 85,
      "id": "612eba85-c1b8-4427-930d-f3bc4d806ca4",
      "metadata": {
        "colab": {
          "base_uri": "https://localhost:8080/"
        },
        "id": "612eba85-c1b8-4427-930d-f3bc4d806ca4",
        "outputId": "4a337e50-4927-45b8-9f29-825c495a2407"
      },
      "outputs": [
        {
          "output_type": "stream",
          "name": "stdout",
          "text": [
            "{'fragment': 'AUGCRY', 'is_valid_rna': True, 'gc_content': 33.33, 'complementary_sequence': 'UACGYR'}\n",
            "{'fragment': 'SNAUGC', 'is_valid_rna': True, 'gc_content': 50.0, 'complementary_sequence': 'SNUACG'}\n",
            "{'fragment': 'RYXNAU', 'is_valid_rna': False, 'gc_content': 'N/A', 'complementary_sequence': 'N/A'}\n",
            "{'fragment': 'GCRYSN', 'is_valid_rna': True, 'gc_content': 50.0, 'complementary_sequence': 'CGYRSN'}\n"
          ]
        }
      ],
      "source": [
        "def fragment_and_analyze(sequence, fragment_length):\n",
        "\n",
        "  #Fragment the RNA sequence into smaller parts and analyze each fragment.\n",
        "\n",
        "    results = []\n",
        "    for i in range(0, len(sequence), fragment_length):\n",
        "        fragment = sequence[i:i + fragment_length] # Extract the current fragment\n",
        "        is_valid = is_valid_rna_adv(fragment)  # Check if the fragment is a valid RNA sequence\n",
        "        if is_valid:\n",
        "            gc = gc_content_with_amb(fragment) # Calculate the GC content of the fragment if valid\n",
        "            comp_seq = complementary_sequence_with_amb(fragment) # Get the complementary sequence if valid\n",
        "        else:\n",
        "            gc = 'N/A' # Set GC content to 'N/A' if the fragment is not valid\n",
        "            comp_seq = 'N/A'  # Set complementary sequence to 'N/A' if the fragment is not valid\n",
        "\n",
        "\n",
        "        # Append a dictionary with the analysis results of the current fragment to the results list\n",
        "        results.append({\n",
        "            'fragment': fragment,\n",
        "            'is_valid_rna': is_valid,\n",
        "            'gc_content': gc,\n",
        "            'complementary_sequence': comp_seq\n",
        "        })\n",
        "\n",
        "    return results\n",
        "\n",
        "# Test examples\n",
        "sequence = \"AUGCRYSNAUGCRYXNAUGCRYSN\"\n",
        "fragment_length = 6\n",
        "analysis_results = fragment_and_analyze(sequence, fragment_length)\n",
        "for result in analysis_results:\n",
        "    print(result)\n"
      ]
    },
    {
      "cell_type": "markdown",
      "source": [
        "# **Unit Tests**"
      ],
      "metadata": {
        "id": "rjCCvO00XHdR"
      },
      "id": "rjCCvO00XHdR"
    },
    {
      "cell_type": "code",
      "source": [
        "import unittest\n",
        "class Tests(unittest.TestCase):\n",
        " def test_nucleotide_count_valid_sequence(self):\n",
        "        sequence = \"ACGUACGU\"\n",
        "        expected_counts = {'A': 2, 'C': 2, 'G': 2, 'U': 2}\n",
        "        self.assertEqual(nucleotide_count(sequence), expected_counts)\n",
        "\n",
        " def test_nucleotide_count_invalid_sequence(self):\n",
        "        sequence = \"ACGTX\"\n",
        "        expected_message = \"Invalid RNA sequence. Sequence must contain only A, C, G, U.\"\n",
        "        self.assertEqual(nucleotide_count(sequence), expected_message)\n",
        " def test_find_motifs(self):\n",
        "        sequence = \"AUGCAUGCAUGC\"\n",
        "        motif = \"AUG\"\n",
        "        expected_positions = [0, 4, 8]\n",
        "        self.assertEqual(find_motifs(sequence, motif), expected_positions)\n",
        " def test_gc_content_basic(self):\n",
        "        # Test with a basic RNA sequence\n",
        "        rna_seq = \"AUCGCUAGU\"\n",
        "        expected_result = 44.44\n",
        "        self.assertAlmostEqual(gc_content(rna_seq), expected_result, places=2)\n",
        "\n",
        " def test_gc_content_ambiguity_codes(self):\n",
        "        # Test with an RNA sequence containing ambiguity codes\n",
        "        rna_seq = \"AUCGRYSWN\"\n",
        "        expected_result = 33.33\n",
        "        self.assertAlmostEqual(gc_content_with_amb(rna_seq), expected_result, places=2)\n",
        "\n",
        " def test_complementary_sequence_basic(self):\n",
        "        # Test with a basic RNA sequence\n",
        "        rna_seq = \"AUCGCUAGU\"\n",
        "        expected_result = \"UAGCGAUCA\"\n",
        "        self.assertEqual(complementary_sequence(rna_seq), expected_result)\n",
        " def test_complementary_sequence_ambiguity_codes(self):\n",
        "        # Test with an RNA sequence containing ambiguity codes\n",
        "        rna_seq = \"AUCGRYSWN\"\n",
        "        expected_result = \"UAGCYRSWN\"\n",
        "        self.assertEqual(complementary_sequence_with_amb(rna_seq), expected_result)\n",
        "\n",
        " def test_basic_valid_rna(self):\n",
        "        # Test with a basic valid RNA sequence\n",
        "        rna_seq = \"AUGCAUGCAUGC\"\n",
        "        self.assertTrue(is_valid_rna(rna_seq))\n",
        "\n",
        " def test_valid_rna_with_ambiguity_codes(self):\n",
        "        # Test with an RNA sequence containing ambiguity codes\n",
        "        rna_seq = \"AUGCRYSWMNAGUC\"\n",
        "        self.assertTrue(is_valid_rna_adv(rna_seq))\n",
        "\n",
        " def test_fragment_and_analyze_basic(self):\n",
        "        # Test with a basic RNA sequence and fragment length 3\n",
        "        sequence = \"AUGCAUGCAUGC\"\n",
        "        fragment_length = 3\n",
        "        expected_results = [\n",
        "            {'fragment': 'AUG', 'is_valid_rna': True, 'gc_content': 33.33, 'complementary_sequence': 'UAC'},\n",
        "            {'fragment': 'CAU', 'is_valid_rna': True, 'gc_content': 33.33, 'complementary_sequence': 'GUA'},\n",
        "            {'fragment': 'GCA', 'is_valid_rna': True, 'gc_content': 66.67, 'complementary_sequence': 'CGU'},\n",
        "            {'fragment': 'UGC', 'is_valid_rna': True, 'gc_content': 66.67, 'complementary_sequence': 'ACG'}\n",
        "        ]\n",
        "        self.assertEqual(fragment_and_analyze(sequence, fragment_length), expected_results)\n",
        "\n",
        "def test_fragment_and_analyze_ambiguity_codes(self):\n",
        "        # Test with an RNA sequence containing ambiguity codes and fragment length 4\n",
        "        sequence = \"AUGCRYSWMNAGUC\"\n",
        "        fragment_length = 4\n",
        "        expected_results = [\n",
        "            {'fragment': 'AUGC', 'is_valid_rna': True, 'gc_content': 50.0, 'complementary_sequence': 'UACG'},\n",
        "            {'fragment': 'RYSW', 'is_valid_rna': False, 'gc_content': 'N/A', 'complementary_sequence': 'N/A'},\n",
        "            {'fragment': 'MNAG', 'is_valid_rna': False, 'gc_content': 'N/A', 'complementary_sequence': 'N/A'},\n",
        "            {'fragment': 'UC', 'is_valid_rna': True, 'gc_content': 50.0, 'complementary_sequence': 'AG'}\n",
        "        ]\n",
        "        self.assertEqual(fragment_and_analyze(sequence, fragment_length), expected_results)\n",
        "\n",
        "unittest.main(argv=[''], verbosity=2, exit=False)"
      ],
      "metadata": {
        "colab": {
          "base_uri": "https://localhost:8080/"
        },
        "id": "0lF4AqLGR4lc",
        "outputId": "062e8466-1564-4d66-ed5d-5e1d51d7c241"
      },
      "id": "0lF4AqLGR4lc",
      "execution_count": 86,
      "outputs": [
        {
          "output_type": "stream",
          "name": "stderr",
          "text": [
            "test_basic_valid_rna (__main__.Tests) ... ok\n",
            "test_complementary_sequence_ambiguity_codes (__main__.Tests) ... ok\n",
            "test_complementary_sequence_basic (__main__.Tests) ... ok\n",
            "test_find_motifs (__main__.Tests) ... ok\n",
            "test_fragment_and_analyze_basic (__main__.Tests) ... ok\n",
            "test_gc_content_ambiguity_codes (__main__.Tests) ... ok\n",
            "test_gc_content_basic (__main__.Tests) ... ok\n",
            "test_nucleotide_count_invalid_sequence (__main__.Tests) ... ok\n",
            "test_nucleotide_count_valid_sequence (__main__.Tests) ... ok\n",
            "test_valid_rna_with_ambiguity_codes (__main__.Tests) ... ok\n",
            "\n",
            "----------------------------------------------------------------------\n",
            "Ran 10 tests in 0.024s\n",
            "\n",
            "OK\n"
          ]
        },
        {
          "output_type": "execute_result",
          "data": {
            "text/plain": [
              "<unittest.main.TestProgram at 0x7d6c8287acb0>"
            ]
          },
          "metadata": {},
          "execution_count": 86
        }
      ]
    }
  ],
  "metadata": {
    "kernelspec": {
      "display_name": "Python 3 (ipykernel)",
      "language": "python",
      "name": "python3"
    },
    "language_info": {
      "codemirror_mode": {
        "name": "ipython",
        "version": 3
      },
      "file_extension": ".py",
      "mimetype": "text/x-python",
      "name": "python",
      "nbconvert_exporter": "python",
      "pygments_lexer": "ipython3",
      "version": "3.12.3"
    },
    "colab": {
      "provenance": []
    }
  },
  "nbformat": 4,
  "nbformat_minor": 5
}